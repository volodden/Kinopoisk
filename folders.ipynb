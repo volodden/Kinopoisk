{
 "cells": [
  {
   "cell_type": "code",
   "execution_count": 1,
   "metadata": {
    "collapsed": true
   },
   "outputs": [],
   "source": [
    "import Kinopoisk"
   ]
  },
  {
   "cell_type": "code",
   "execution_count": 2,
   "metadata": {
    "collapsed": false,
    "scrolled": true
   },
   "outputs": [],
   "source": [
    "id_volodden = 6099159"
   ]
  },
  {
   "cell_type": "code",
   "execution_count": 3,
   "metadata": {
    "collapsed": true
   },
   "outputs": [],
   "source": [
    "f = Kinopoisk.UserFolders(id_volodden)\n",
    "foldersData = f.getFoldersInfo()"
   ]
  },
  {
   "cell_type": "code",
   "execution_count": 4,
   "metadata": {
    "collapsed": false,
    "scrolled": false
   },
   "outputs": [
    {
     "name": "stdout",
     "output_type": "stream",
     "text": [
      "1045310\n",
      "Буду смотреть\n",
      "Буду смотреть (S)\n",
      "Невышедшие фильмы\n",
      "---\n",
      "309\n",
      "Буду смотреть\n",
      "Буду смотреть (L)\n",
      "Любимые фильмы\n",
      "---\n"
     ]
    }
   ],
   "source": [
    "faf = {}\n",
    "\n",
    "exc = [308300, 308301, 308302, 317046, 317045]\n",
    "\n",
    "for f in foldersData:\n",
    "    for t in f['Films']:\n",
    "        if f['ShortLink'] in exc:\n",
    "            continue\n",
    "        try:\n",
    "            faf[t].append((f['Name'], f['ShortLink']))\n",
    "        except:\n",
    "            faf[t] = [(f['Name'], f['ShortLink'])]\n",
    "\n",
    "for x in faf:\n",
    "    if len(faf[x]) > 2:\n",
    "        print x\n",
    "        for p in faf[x]:\n",
    "            print p[0]\n",
    "        print '---'"
   ]
  },
  {
   "cell_type": "code",
   "execution_count": 5,
   "metadata": {
    "collapsed": false
   },
   "outputs": [
    {
     "name": "stdout",
     "output_type": "stream",
     "text": [
      "Done\n"
     ]
    }
   ],
   "source": [
    "print 'Done'"
   ]
  },
  {
   "cell_type": "code",
   "execution_count": null,
   "metadata": {
    "collapsed": true
   },
   "outputs": [],
   "source": []
  }
 ],
 "metadata": {
  "kernelspec": {
   "display_name": "Python 2",
   "language": "python",
   "name": "python2"
  },
  "language_info": {
   "codemirror_mode": {
    "name": "ipython",
    "version": 2
   },
   "file_extension": ".py",
   "mimetype": "text/x-python",
   "name": "python",
   "nbconvert_exporter": "python",
   "pygments_lexer": "ipython2",
   "version": "2.7.12"
  }
 },
 "nbformat": 4,
 "nbformat_minor": 0
}
