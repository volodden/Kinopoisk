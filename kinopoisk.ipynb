{
 "cells": [
  {
   "cell_type": "markdown",
   "metadata": {},
   "source": [
    "Что хочется ещё добавить:<br>\n",
    "\n",
    "1. Сравнительная страница оценок:<br>\n",
    "    1.1. TODO: визуализация. (Что же я тут хочу?)<br>\n",
    "    1.2. Генерация .html страницы.<br>\n",
    "2. Сравнительная страница списков: (аналог https://www.kinopoisk.ru/user/6099159/list/)<br>\n",
    "    2.1. Добавление класса списков.<br>\n",
    "    2.2. Выбор стандартных списки/произвольного набора фильмов.<br>\n",
    "    2.3. Визуализация. (Что же тут имеется в виду?)<br>\n",
    "    2.4. Сравнение нескольких пользователей.<br>\n",
    "3. Программа, использующая это API - ?<br>\n",
    "4. Визуализации -- ???<br>\n",
    "    6.1. График процентного соотношения оценок, а также изменения среднего арифметического.<br>\n",
    "    6.2. Гистограммы по годам. (Количество просмотренных фильмов за каждый год.)<br>\n",
    "5. Тесты?<br>\n",
    "6. Распаралеллить.<br>\n",
    "7. Настройка параметров вывода информации.<br>\n",
    "8. А что насчёт телеграм-бота?..<br>\n",
    "9. Top250.<br>\n",
    "    9.1. Думаю, в .html это будет выглядеть красивее. Хочется что-то вроде [картинка](https://upload.wikimedia.org/wikipedia/commons/1/17/IIHF_World_Ice_Hockey_Ranking_between_2003_and_2014.png). А то сейчас ничего не ясно.<br>\n",
    "10. Написать универсальный загрузчик информации о фильмах (а не дублировать код).<br>"
   ]
  },
  {
   "cell_type": "code",
   "execution_count": 1,
   "metadata": {
    "collapsed": false
   },
   "outputs": [],
   "source": [
    "import Kinopoisk"
   ]
  },
  {
   "cell_type": "code",
   "execution_count": 2,
   "metadata": {
    "collapsed": false
   },
   "outputs": [
    {
     "name": "stdout",
     "output_type": "stream",
     "text": [
      "Current Mode is online\n",
      "CollectorUsersID \n",
      "Используется для получения id пользователей, с которыми будет произведена работа.\n",
      "Все id содержатся в единственном числе, дубликаты удаляются.\n",
      "Итерируемый.\n",
      "\n",
      "Может принимать в конструкторе:\n",
      "1. id пользователя (как число);\n",
      "2. Cсылку на профиль пользователя (строка);\n",
      "3. Список, включаяющий в себя элементы вида 1 или 2.\n",
      "\n",
      "Имеет методы:\n",
      "getUsersID(data)\n",
      "removeUsersID(data)\n",
      "size()\n"
     ]
    }
   ],
   "source": [
    "id_volodden = 6099159\n",
    "Kinopoisk.settings.printMode()\n",
    "print Kinopoisk.CollectorUsersID.__doc__"
   ]
  },
  {
   "cell_type": "code",
   "execution_count": 3,
   "metadata": {
    "collapsed": false
   },
   "outputs": [],
   "source": [
    "FOR_TEST = False\n",
    "\n",
    "if FOR_TEST:\n",
    "\n",
    "    s1 = Kinopoisk.CollectorUsersID([id_volodden])\n",
    "    print s1.usersID"
   ]
  },
  {
   "cell_type": "code",
   "execution_count": 4,
   "metadata": {
    "collapsed": false
   },
   "outputs": [],
   "source": [
    "if FOR_TEST:\n",
    "\n",
    "    voloddenInfo = Kinopoisk.UserInfo(id_volodden)\n",
    "    print voloddenInfo.getNick()\n",
    "\n",
    "    print voloddenInfo.getFriends(friendsUpdate = True)\n",
    "\n",
    "    listWithIDs = [id_volodden] + voloddenInfo.getFriends()\n",
    "    print listWithIDs"
   ]
  },
  {
   "cell_type": "code",
   "execution_count": 5,
   "metadata": {
    "collapsed": false
   },
   "outputs": [],
   "source": [
    "if FOR_TEST:\n",
    "    \n",
    "    info2 = Kinopoisk.UserVotesData(voloddenInfo).loadDataFromSite()\n",
    "    \n",
    "    info = Kinopoisk.UserVotesData(id_volodden).loadDataFromSite()\n",
    "    print info.getData()[:3]\n",
    "    \n",
    "    info3 = Kinopoisk.UserVotesData(id_volodden).loadDataFromFolder()"
   ]
  },
  {
   "cell_type": "code",
   "execution_count": 6,
   "metadata": {
    "collapsed": false
   },
   "outputs": [],
   "source": [
    "if FOR_TEST:\n",
    "\n",
    "    v = Kinopoisk.CollectorUsersID(listWithIDs)\n",
    "    v.removeUsersID(3047075)\n",
    "    v = [Kinopoisk.UserVotesData(x).loadData() for x in v]"
   ]
  },
  {
   "cell_type": "code",
   "execution_count": 7,
   "metadata": {
    "collapsed": false
   },
   "outputs": [],
   "source": [
    "if FOR_TEST:\n",
    "\n",
    "    dvp = Kinopoisk.DataVotesPresenter(v)\n",
    "    dvp.saveToXLS('newfile.xls')"
   ]
  },
  {
   "cell_type": "code",
   "execution_count": 8,
   "metadata": {
    "collapsed": false
   },
   "outputs": [],
   "source": [
    "if FOR_TEST:\n",
    "\n",
    "    dvtl = Kinopoisk.DataVotesTablesLoader('newfile.xls')\n",
    "\n",
    "    uvb1 = dvtl.loadData()\n",
    "\n",
    "    dvp1 = Kinopoisk.DataVotesPresenter(uvb1[1:])\n",
    "    dvp1.saveToXLS('newfile_1.xls')\n",
    "\n",
    "    dvt2 = Kinopoisk.DataVotesTablesLoader('newfile_1.xls')\n",
    "\n",
    "    uvb2 = dvt2.loadData()\n",
    "\n",
    "    dvp2 = Kinopoisk.DataVotesPresenter(uvb2[1:])\n",
    "    dvp2.saveToXLS('newfile_2.xls')"
   ]
  },
  {
   "cell_type": "code",
   "execution_count": 9,
   "metadata": {
    "collapsed": false
   },
   "outputs": [],
   "source": [
    "if FOR_TEST:\n",
    "    \n",
    "    import time\n",
    "    \n",
    "    t = time.time()\n",
    "    \n",
    "    top = Kinopoisk.TopStats()\n",
    "    top.loadData(days = 20)\n",
    "    top.saveToXLS()\n",
    "    \n",
    "    print time.time() - t"
   ]
  },
  {
   "cell_type": "markdown",
   "metadata": {
    "collapsed": true
   },
   "source": [
    "<h1>Sample</h1>"
   ]
  },
  {
   "cell_type": "code",
   "execution_count": 10,
   "metadata": {
    "collapsed": false,
    "scrolled": true
   },
   "outputs": [],
   "source": [
    "import main\n",
    "#main.run()"
   ]
  },
  {
   "cell_type": "code",
   "execution_count": 11,
   "metadata": {
    "collapsed": true
   },
   "outputs": [],
   "source": [
    "main.v()"
   ]
  },
  {
   "cell_type": "code",
   "execution_count": 12,
   "metadata": {
    "collapsed": false
   },
   "outputs": [
    {
     "name": "stdout",
     "output_type": "stream",
     "text": [
      "Done\n"
     ]
    }
   ],
   "source": [
    "print 'Done'"
   ]
  },
  {
   "cell_type": "code",
   "execution_count": null,
   "metadata": {
    "collapsed": true
   },
   "outputs": [],
   "source": []
  }
 ],
 "metadata": {
  "kernelspec": {
   "display_name": "Python 2",
   "language": "python",
   "name": "python2"
  },
  "language_info": {
   "codemirror_mode": {
    "name": "ipython",
    "version": 2
   },
   "file_extension": ".py",
   "mimetype": "text/x-python",
   "name": "python",
   "nbconvert_exporter": "python",
   "pygments_lexer": "ipython2",
   "version": "2.7.12"
  }
 },
 "nbformat": 4,
 "nbformat_minor": 0
}
